{
 "cells": [
  {
   "cell_type": "code",
   "execution_count": 15,
   "id": "dc756ab9",
   "metadata": {},
   "outputs": [],
   "source": [
    "import pandas as pd            \n",
    "import matplotlib.pyplot as plt\n",
    "%matplotlib inline\n",
    "import seaborn as sns"
   ]
  },
  {
   "cell_type": "code",
   "execution_count": 21,
   "id": "0f36e49b",
   "metadata": {},
   "outputs": [],
   "source": [
    "# 한글 문제\n",
    "# matplotlit의 기본 폰트에서 한글 지원되지 않기 때문에\n",
    "# matplotlib의 폰트 변경 필요\n",
    "import platform\n",
    "\n",
    "from matplotlib import font_manager, rc\n",
    "plt.rcParams['axes.unicode_minus'] = False\n",
    "\n",
    "if platform.system() == 'Darwin':  # 맥OS \n",
    "    rc('font', family='AppleGothic')\n",
    "elif platform.system() == 'Windows':  # 윈도우\n",
    "    path = \"c:/Windows/Fonts/malgun.ttf\"\n",
    "    font_name = font_manager.FontProperties(fname=path).get_name()\n",
    "    rc('font', family=font_name)\n",
    "else:\n",
    "    print('Unknown system...  sorry~~~')"
   ]
  },
  {
   "cell_type": "code",
   "execution_count": 3,
   "id": "754efabe",
   "metadata": {},
   "outputs": [],
   "source": [
    "from IPython.core.interactiveshell import InteractiveShell\n",
    "InteractiveShell.ast_node_interactivity=\"all\""
   ]
  },
  {
   "cell_type": "code",
   "execution_count": 19,
   "id": "75cde2f8",
   "metadata": {
    "scrolled": true
   },
   "outputs": [
    {
     "data": {
      "text/html": [
       "<div>\n",
       "<style scoped>\n",
       "    .dataframe tbody tr th:only-of-type {\n",
       "        vertical-align: middle;\n",
       "    }\n",
       "\n",
       "    .dataframe tbody tr th {\n",
       "        vertical-align: top;\n",
       "    }\n",
       "\n",
       "    .dataframe thead th {\n",
       "        text-align: right;\n",
       "    }\n",
       "</style>\n",
       "<table border=\"1\" class=\"dataframe\">\n",
       "  <thead>\n",
       "    <tr style=\"text-align: right;\">\n",
       "      <th></th>\n",
       "      <th>시도별</th>\n",
       "      <th>30세</th>\n",
       "      <th>40세</th>\n",
       "      <th>50세</th>\n",
       "    </tr>\n",
       "  </thead>\n",
       "  <tbody>\n",
       "    <tr>\n",
       "      <th>0</th>\n",
       "      <td>서울</td>\n",
       "      <td>6251</td>\n",
       "      <td>6644</td>\n",
       "      <td>5076</td>\n",
       "    </tr>\n",
       "    <tr>\n",
       "      <th>1</th>\n",
       "      <td>부산</td>\n",
       "      <td>1372</td>\n",
       "      <td>1768</td>\n",
       "      <td>1431</td>\n",
       "    </tr>\n",
       "    <tr>\n",
       "      <th>2</th>\n",
       "      <td>대구</td>\n",
       "      <td>864</td>\n",
       "      <td>1302</td>\n",
       "      <td>1077</td>\n",
       "    </tr>\n",
       "    <tr>\n",
       "      <th>3</th>\n",
       "      <td>인천</td>\n",
       "      <td>1511</td>\n",
       "      <td>2113</td>\n",
       "      <td>1695</td>\n",
       "    </tr>\n",
       "    <tr>\n",
       "      <th>4</th>\n",
       "      <td>광주</td>\n",
       "      <td>528</td>\n",
       "      <td>745</td>\n",
       "      <td>600</td>\n",
       "    </tr>\n",
       "    <tr>\n",
       "      <th>5</th>\n",
       "      <td>대전</td>\n",
       "      <td>761</td>\n",
       "      <td>980</td>\n",
       "      <td>875</td>\n",
       "    </tr>\n",
       "    <tr>\n",
       "      <th>6</th>\n",
       "      <td>울산</td>\n",
       "      <td>489</td>\n",
       "      <td>650</td>\n",
       "      <td>539</td>\n",
       "    </tr>\n",
       "    <tr>\n",
       "      <th>7</th>\n",
       "      <td>세종</td>\n",
       "      <td>114</td>\n",
       "      <td>311</td>\n",
       "      <td>157</td>\n",
       "    </tr>\n",
       "    <tr>\n",
       "      <th>8</th>\n",
       "      <td>경기</td>\n",
       "      <td>6452</td>\n",
       "      <td>9454</td>\n",
       "      <td>7736</td>\n",
       "    </tr>\n",
       "    <tr>\n",
       "      <th>9</th>\n",
       "      <td>강원</td>\n",
       "      <td>522</td>\n",
       "      <td>740</td>\n",
       "      <td>655</td>\n",
       "    </tr>\n",
       "    <tr>\n",
       "      <th>10</th>\n",
       "      <td>충북</td>\n",
       "      <td>722</td>\n",
       "      <td>914</td>\n",
       "      <td>787</td>\n",
       "    </tr>\n",
       "    <tr>\n",
       "      <th>11</th>\n",
       "      <td>충남</td>\n",
       "      <td>928</td>\n",
       "      <td>1224</td>\n",
       "      <td>986</td>\n",
       "    </tr>\n",
       "    <tr>\n",
       "      <th>12</th>\n",
       "      <td>전북</td>\n",
       "      <td>514</td>\n",
       "      <td>712</td>\n",
       "      <td>678</td>\n",
       "    </tr>\n",
       "    <tr>\n",
       "      <th>13</th>\n",
       "      <td>전남</td>\n",
       "      <td>400</td>\n",
       "      <td>661</td>\n",
       "      <td>638</td>\n",
       "    </tr>\n",
       "    <tr>\n",
       "      <th>14</th>\n",
       "      <td>경북</td>\n",
       "      <td>858</td>\n",
       "      <td>1258</td>\n",
       "      <td>1010</td>\n",
       "    </tr>\n",
       "    <tr>\n",
       "      <th>15</th>\n",
       "      <td>경남</td>\n",
       "      <td>1019</td>\n",
       "      <td>1744</td>\n",
       "      <td>1551</td>\n",
       "    </tr>\n",
       "    <tr>\n",
       "      <th>16</th>\n",
       "      <td>제주</td>\n",
       "      <td>288</td>\n",
       "      <td>431</td>\n",
       "      <td>318</td>\n",
       "    </tr>\n",
       "  </tbody>\n",
       "</table>\n",
       "</div>"
      ],
      "text/plain": [
       "   시도별   30세   40세   50세\n",
       "0   서울  6251  6644  5076\n",
       "1   부산  1372  1768  1431\n",
       "2   대구   864  1302  1077\n",
       "3   인천  1511  2113  1695\n",
       "4   광주   528   745   600\n",
       "5   대전   761   980   875\n",
       "6   울산   489   650   539\n",
       "7   세종   114   311   157\n",
       "8   경기  6452  9454  7736\n",
       "9   강원   522   740   655\n",
       "10  충북   722   914   787\n",
       "11  충남   928  1224   986\n",
       "12  전북   514   712   678\n",
       "13  전남   400   661   638\n",
       "14  경북   858  1258  1010\n",
       "15  경남  1019  1744  1551\n",
       "16  제주   288   431   318"
      ]
     },
     "execution_count": 19,
     "metadata": {},
     "output_type": "execute_result"
    }
   ],
   "source": [
    "blue = pd.read_csv('../data/전국구정신건강검사_우울증_전처리최종.csv')\n",
    "blue\n",
    "# 전국구 대상, 정신건강검사에서 '중간 정도의 우울증'과 '심한 우울증' 소견을 보인 연령대별 환자의 수\n",
    "# '중간 정도의 우울증'과 '심한 우울증'은 일상생활을 하기 어려운 정도의 우울증을 가지고 있다고 판단"
   ]
  },
  {
   "cell_type": "code",
   "execution_count": 22,
   "id": "5c197ad8",
   "metadata": {
    "scrolled": false
   },
   "outputs": [
    {
     "data": {
      "text/plain": [
       "<AxesSubplot:xlabel='시도별'>"
      ]
     },
     "execution_count": 22,
     "metadata": {},
     "output_type": "execute_result"
    },
    {
     "data": {
      "image/png": "[encoded data removed]",
      "text/plain": [
       "<Figure size 648x576 with 1 Axes>"
      ]
     },
     "metadata": {
      "needs_background": "light"
     },
     "output_type": "display_data"
    }
   ],
   "source": [
    "blue.plot(x=\"시도별\", y=[\"30세\", \"40세\", \"50세\"], kind=\"bar\",figsize=(9,8))\n",
    "plt.show()\n",
    "# 세종은 절대적인 인구수가 적음"
   ]
  }
 ],
 "metadata": {
  "kernelspec": {
   "display_name": "Python 3",
   "language": "python",
   "name": "python3"
  },
  "language_info": {
   "codemirror_mode": {
    "name": "ipython",
    "version": 3
   },
   "file_extension": ".py",
   "mimetype": "text/x-python",
   "name": "python",
   "nbconvert_exporter": "python",
   "pygments_lexer": "ipython3",
   "version": "3.8.8"
  }
 },
 "nbformat": 4,
 "nbformat_minor": 5
}
